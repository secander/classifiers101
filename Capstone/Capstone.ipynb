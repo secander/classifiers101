{
 "cells": [
  {
   "cell_type": "markdown",
   "metadata": {},
   "source": [
    "# Classifiers Capstone\n",
    "\n",
    "1. Objective - build a classifier to classify images of handwritten digits.  \n",
    "2. Deliverables:\n",
    "    * A `.pkl` containing your model's fitted parameters. \n",
    "    * An IPython/Jupyter notebook with a Model class.  \n",
    "    * Some driver code that loads your model's parameters evaluates its performance on a Test-set.  \n",
    "3. Evaluation criteria - I will use a set of test data (that you won't be given for training) to see who built the best model.  The model with the highest `accuracy` on this test set.  "
   ]
  },
  {
   "cell_type": "code",
   "execution_count": null,
   "metadata": {
    "collapsed": true
   },
   "outputs": [],
   "source": [
    "class BaseModel:\n",
    "    def name(self):\n",
    "        return 'Base Model'\n",
    "    \n",
    "    def predict(self, x):\n",
    "        # always predict background\n",
    "        return 0\n",
    "    \n",
    "    # calculates the performance of the model\n",
    "    def test(self, XY_test, display=True):\n",
    "        ses = []\n",
    "        tp = 0.\n",
    "        tn = 0.\n",
    "        fp = 0.\n",
    "        fn = 0.\n",
    "        for x, y in XY_test:\n",
    "            pred = self.predict(x)\n",
    "            ses.append(y**2.+pred**2.)\n",
    "            if y == 1:\n",
    "                if pred >= 0.5:\n",
    "                    tp += 1\n",
    "                else:\n",
    "                    fn += 1\n",
    "            else:\n",
    "                if pred < 0.5:\n",
    "                    tn += 1\n",
    "                else:\n",
    "                    fp += 1\n",
    "        try:\n",
    "            accuracy = (tp+tn)/(tp+tn+fp+fn)\n",
    "        except:\n",
    "            accuracy = np.nan\n",
    "        try:\n",
    "            recall = tp/(tp+fn)\n",
    "        except:\n",
    "            recall = np.nan\n",
    "        try:\n",
    "            precision = tp/(tp+fp)\n",
    "        except:\n",
    "            precision = np.nan\n",
    "            \n",
    "        results = {'mse': np.mean(ses), 'accuracy': accuracy, 'recall': recall, 'precision': precision, 'tp': tp, 'tn': tn, 'fp': fp, 'fn': fn}\n",
    "        if display:\n",
    "            print \"Fitted %s Results\" % self.name()\n",
    "            print \"Accuracy: %0.2f%%\" % (results['accuracy']*100.)\n",
    "            print \"Precision: %0.2f%%\" % (results['precision']*100.)\n",
    "            print \"Recall: %0.2f%%\" % (results['recall']*100.)\n",
    "        return results\n"
   ]
  },
  {
   "cell_type": "code",
   "execution_count": null,
   "metadata": {
    "collapsed": false
   },
   "outputs": [],
   "source": [
    "class YourModel(BaseModel):\n",
    "    def __init__(self):\n",
    "        # Initialize it!\n",
    "    \n",
    "    def predict(self):\n",
    "        # need to implement this\n",
    "        \n",
    "    def save(self, filename, save_loc=None):\n",
    "        # need to implement this.\n",
    "        \n",
    "    def load(self, file_loc):\n",
    "        # need to implement this.\n",
    "    \n",
    "    def name(self):\n",
    "        return 'My Cool Model'"
   ]
  },
  {
   "cell_type": "markdown",
   "metadata": {},
   "source": [
    "# Data Loading"
   ]
  },
  {
   "cell_type": "code",
   "execution_count": 1,
   "metadata": {
    "collapsed": false
   },
   "outputs": [],
   "source": [
    "import urllib\n",
    "import pickle\n",
    "import numpy as np"
   ]
  },
  {
   "cell_type": "code",
   "execution_count": 2,
   "metadata": {
    "collapsed": false
   },
   "outputs": [],
   "source": [
    "result = urllib.urlretrieve(\"https://s3.amazonaws.com/hudl-hadoop/classifiers101/digits_data.pkl\", \"digits_data.pkl\")\n",
    "f = open('digits_data.pkl', 'r')\n",
    "raw_data = pickle.load(f)\n",
    "f.close()\n",
    "imgs, labels = zip(*raw_data)"
   ]
  },
  {
   "cell_type": "markdown",
   "metadata": {},
   "source": [
    "# Displaying the Data"
   ]
  },
  {
   "cell_type": "code",
   "execution_count": 3,
   "metadata": {
    "collapsed": true
   },
   "outputs": [],
   "source": [
    "import matplotlib.pyplot as plt\n",
    "import random\n",
    "%matplotlib inline"
   ]
  },
  {
   "cell_type": "code",
   "execution_count": 4,
   "metadata": {
    "collapsed": false,
    "scrolled": false
   },
   "outputs": [
    {
     "name": "stdout",
     "output_type": "stream",
     "text": [
      "Label: 8\n"
     ]
    },
    {
     "data": {
      "text/plain": [
       "<matplotlib.image.AxesImage at 0x10b922950>"
      ]
     },
     "execution_count": 4,
     "metadata": {},
     "output_type": "execute_result"
    },
    {
     "data": {
      "image/png": "[encoded data removed]",
      "text/plain": [
       "<matplotlib.figure.Figure at 0x111929c10>"
      ]
     },
     "metadata": {},
     "output_type": "display_data"
    }
   ],
   "source": [
    "img_data, label = random.choice(raw_data);\n",
    "print \"Label: %i\" % label\n",
    "plt.imshow(img_data.reshape((28,28)), cmap='Greys')"
   ]
  },
  {
   "cell_type": "code",
   "execution_count": null,
   "metadata": {
    "collapsed": true
   },
   "outputs": [],
   "source": []
  }
 ],
 "metadata": {
  "kernelspec": {
   "display_name": "Python 2",
   "language": "python",
   "name": "python2"
  },
  "language_info": {
   "codemirror_mode": {
    "name": "ipython",
    "version": 2
   },
   "file_extension": ".py",
   "mimetype": "text/x-python",
   "name": "python",
   "nbconvert_exporter": "python",
   "pygments_lexer": "ipython2",
   "version": "2.7.10"
  }
 },
 "nbformat": 4,
 "nbformat_minor": 0
}
